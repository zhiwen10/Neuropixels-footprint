{
 "cells": [
  {
   "cell_type": "code",
   "execution_count": 5,
   "id": "d5b217c7",
   "metadata": {},
   "outputs": [],
   "source": [
    "import os\n",
    "import numpy as np\n",
    "from tqdm.notebook import tqdm\n",
    "import matplotlib.pyplot as plt\n",
    "import get_footprint_new3\n",
    "import h5py\n",
    "from scipy import interpolate\n",
    "import math"
   ]
  },
  {
   "cell_type": "code",
   "execution_count": 10,
   "id": "0471f0f1",
   "metadata": {},
   "outputs": [],
   "source": [
    "# load waveform data (ncluster * nChan * tSampleN) and chanMap\n",
    "\n",
    "# data = np.load(r\"C:\\Users\\Steinmetz lab\\Documents\\git\\Neuropixels-footprint\\data\\meanWaveform_NPUHD2.npy\")\n",
    "# filepath = r\"C:\\Users\\Steinmetz lab\\Documents\\git\\Neuropixels-footprint\\chanMaps\\NPUHD2_bank0_ref0.mat\";\n",
    "\n",
    "data = np.load(r\"C:\\Users\\Steinmetz lab\\Documents\\git\\Neuropixels-footprint\\data\\meanWaveform_NP20.npy\")\n",
    "filepath = r\"C:\\Users\\Steinmetz lab\\Documents\\git\\Neuropixels-footprint\\chanMaps\\NPtype24_doubleLengthStripe_botRow0_ref0.mat\";\n",
    "\n",
    "# data = np.load(r\"C:\\Users\\Steinmetz lab\\Documents\\git\\Neuropixels-footprint\\data\\meanWaveform_NP10.npy\")\n",
    "# filepath = r\"C:\\Users\\Steinmetz lab\\Documents\\git\\Neuropixels-footprint\\chanMaps\\neuropixPhase3B1_kilosortChanMap.mat\";\n",
    "\n",
    "arrays = {}\n",
    "f = h5py.File(filepath)\n",
    "for k, v in f.items():\n",
    "    arrays[k] = np.array(v)\n",
    "\n",
    "xcoords = np.squeeze(arrays[\"xcoords\"])\n",
    "ycoords = np.squeeze(arrays[\"ycoords\"])"
   ]
  },
  {
   "cell_type": "code",
   "execution_count": 11,
   "id": "4c82b5da",
   "metadata": {
    "scrolled": true
   },
   "outputs": [
    {
     "data": {
      "application/vnd.jupyter.widget-view+json": {
       "model_id": "2290638c6e264c408d9203bd283d5b83",
       "version_major": 2,
       "version_minor": 0
      },
      "text/plain": [
       "  0%|          | 0/38 [00:00<?, ?it/s]"
      ]
     },
     "metadata": {},
     "output_type": "display_data"
    },
    {
     "name": "stdout",
     "output_type": "stream",
     "text": [
      "[ 86  31  18  99  49 109  42  47  33  38  73  83  44  70  73 137  89  36\n",
      " 119  39 131  23  70  84  81  55  42  51  67  50 110  80  40  84  44  39\n",
      " 299  58]\n"
     ]
    }
   ],
   "source": [
    "footprint = []\n",
    "for unit in tqdm(data,total=len(data)):\n",
    "    ft = get_footprint_new3.get_footprint_radius(unit,xcoords, ycoords, threshold=30)\n",
    "    footprint.append(ft)\n",
    "    \n",
    "footprint = np.array(footprint)\n",
    "print(footprint)"
   ]
  },
  {
   "cell_type": "code",
   "execution_count": 12,
   "id": "1e355729-525f-477f-bb44-9bcb934c8adf",
   "metadata": {},
   "outputs": [],
   "source": [
    "np.savetxt(\"NP20_footprint_python.csv\", footprint, delimiter = \", \", fmt ='% s')"
   ]
  }
 ],
 "metadata": {
  "kernelspec": {
   "display_name": "Python 3 (ipykernel)",
   "language": "python",
   "name": "python3"
  },
  "language_info": {
   "codemirror_mode": {
    "name": "ipython",
    "version": 3
   },
   "file_extension": ".py",
   "mimetype": "text/x-python",
   "name": "python",
   "nbconvert_exporter": "python",
   "pygments_lexer": "ipython3",
   "version": "3.9.0"
  }
 },
 "nbformat": 4,
 "nbformat_minor": 5
}
