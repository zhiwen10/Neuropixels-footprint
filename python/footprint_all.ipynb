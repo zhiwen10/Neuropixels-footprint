{
 "cells": [
  {
   "cell_type": "code",
   "execution_count": 1,
   "id": "d5b217c7",
   "metadata": {},
   "outputs": [],
   "source": [
    "import os\n",
    "import numpy as np\n",
    "from tqdm.notebook import tqdm\n",
    "import matplotlib.pyplot as plt\n",
    "import get_footprint_new3\n",
    "import h5py\n",
    "from scipy import interpolate\n",
    "import math"
   ]
  },
  {
   "cell_type": "code",
   "execution_count": 2,
   "id": "0471f0f1",
   "metadata": {},
   "outputs": [],
   "source": [
    "# load waveform data (ncluster * nChan * tSampleN) and chanMap\n",
    "\n",
    "# data = np.load(r\"C:\\Users\\Steinmetz lab\\Documents\\git\\Neuropixels-footprint\\data\\meanWaveform_NPUHD2.npy\")\n",
    "# filepath = r\"C:\\Users\\Steinmetz lab\\Documents\\git\\Neuropixels-footprint\\chanMaps\\NPUHD2_bank0_ref0.mat\";\n",
    "\n",
    "# data = np.load(r\"C:\\Users\\Steinmetz lab\\Documents\\git\\Neuropixels-footprint\\data\\meanWaveform_NP20.npy\")\n",
    "# filepath = r\"C:\\Users\\Steinmetz lab\\Documents\\git\\Neuropixels-footprint\\chanMaps\\NPtype24_doubleLengthStripe_botRow0_ref0.mat\";\n",
    "\n",
    "data = np.load(r\"C:\\Users\\Steinmetz lab\\Documents\\git\\Neuropixels-footprint\\data\\meanWaveform_NP10.npy\")\n",
    "filepath = r\"C:\\Users\\Steinmetz lab\\Documents\\git\\Neuropixels-footprint\\chanMaps\\neuropixPhase3B1_kilosortChanMap.mat\";\n",
    "\n",
    "arrays = {}\n",
    "f = h5py.File(filepath)\n",
    "for k, v in f.items():\n",
    "    arrays[k] = np.array(v)\n",
    "\n",
    "xcoords = np.squeeze(arrays[\"xcoords\"])\n",
    "ycoords = np.squeeze(arrays[\"ycoords\"])"
   ]
  },
  {
   "cell_type": "code",
   "execution_count": 3,
   "id": "4c82b5da",
   "metadata": {
    "scrolled": true
   },
   "outputs": [
    {
     "data": {
      "application/vnd.jupyter.widget-view+json": {
       "model_id": "897a0c2cf7da4dba835fb461e2b3593a",
       "version_major": 2,
       "version_minor": 0
      },
      "text/plain": [
       "  0%|          | 0/170 [00:00<?, ?it/s]"
      ]
     },
     "metadata": {},
     "output_type": "display_data"
    },
    {
     "name": "stderr",
     "output_type": "stream",
     "text": [
      "C:\\Users\\Steinmetz lab\\Documents\\git\\Neuropixels-footprint\\python\\get_footprint_new3.py:198: RuntimeWarning: Mean of empty slice\n",
      "  vq_mean = np.nanmean(vq,axis=0)\n"
     ]
    },
    {
     "name": "stdout",
     "output_type": "stream",
     "text": [
      "[ 39  39  46  54  55  58  56  45  31  54  39  47  35  15  37  36 330  35\n",
      "  48  67  51  35  55  41  55  49  63  43  53  38  38  73  39  63  73  30\n",
      "  23  22  57  45  18  32  43  45  22  24  83  37  38  52  65  55  29  54\n",
      "  23  22  57  48  48  54  20  26  55  23  22  55  24  22  40  17  31  22\n",
      "  22  23  44  44  47  58  55  68  71  51  40  24  22  21  25  36  36  24\n",
      "  40  61  60  55  55  24  30  55  51  31  55  55  44  58  41  50  52  48\n",
      "  53  41  59  46  23  23  38  46  44  33  71  61 240  40  25  35  39  24\n",
      "  30  32  47  24  65  47  22  65  53  36  60  60  43  34  36  46  45  31\n",
      "  32  20  48  47  26  55  24  45  54  48  44  57  46  65  62  45  63  53\n",
      "  53  56  52  38  45  57  52  54]\n"
     ]
    }
   ],
   "source": [
    "footprint = []\n",
    "for unit in tqdm(data,total=len(data)):\n",
    "    ft = get_footprint_new3.get_footprint_radius(unit,xcoords, ycoords, threshold=30)\n",
    "    footprint.append(ft)\n",
    "    \n",
    "footprint = np.array(footprint)\n",
    "print(footprint)"
   ]
  },
  {
   "cell_type": "code",
   "execution_count": 4,
   "id": "1e355729-525f-477f-bb44-9bcb934c8adf",
   "metadata": {},
   "outputs": [],
   "source": [
    "np.savetxt(\"NP10_footprint_python.csv\", footprint, delimiter = \", \", fmt ='% s')"
   ]
  }
 ],
 "metadata": {
  "kernelspec": {
   "display_name": "Python 3 (ipykernel)",
   "language": "python",
   "name": "python3"
  },
  "language_info": {
   "codemirror_mode": {
    "name": "ipython",
    "version": 3
   },
   "file_extension": ".py",
   "mimetype": "text/x-python",
   "name": "python",
   "nbconvert_exporter": "python",
   "pygments_lexer": "ipython3",
   "version": "3.9.0"
  }
 },
 "nbformat": 4,
 "nbformat_minor": 5
}
