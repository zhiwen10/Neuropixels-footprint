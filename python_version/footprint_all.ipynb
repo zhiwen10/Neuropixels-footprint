{
 "cells": [
  {
   "cell_type": "code",
   "execution_count": 1,
   "id": "d5b217c7",
   "metadata": {},
   "outputs": [],
   "source": [
    "import os\n",
    "import numpy as np\n",
    "from tqdm.notebook import tqdm\n",
    "import matplotlib.pyplot as plt\n",
    "import get_footprint_new3\n",
    "import seaborn as sns\n",
    "import h5py\n",
    "from scipy import interpolate\n",
    "import math"
   ]
  },
  {
   "cell_type": "code",
   "execution_count": 2,
   "id": "0471f0f1",
   "metadata": {},
   "outputs": [],
   "source": [
    "# load waveform data (ncluster * nChan * tSampleN) and chanMap\n",
    "\n",
    "# data = np.load(r\"C:\\Users\\Steinmetz lab\\Documents\\git\\Neuropixels-footprint\\data\\meanWaveform_NPUHD2.npy\")\n",
    "# filepath = r\"C:\\Users\\Steinmetz lab\\Documents\\git\\Neuropixels-footprint\\chanMaps\\NPUHD2_bank0_ref0.mat\";\n",
    "\n",
    "# data = np.load(r\"C:\\Users\\Steinmetz lab\\Documents\\git\\Neuropixels-footprint\\data\\meanWaveform_NP20.npy\")\n",
    "# filepath = r\"C:\\Users\\Steinmetz lab\\Documents\\git\\Neuropixels-footprint\\chanMaps\\NPtype24_doubleLengthStripe_botRow0_ref0.mat\";\n",
    "\n",
    "data = np.load(r\"C:\\Users\\Steinmetz lab\\Documents\\git\\Neuropixels-footprint\\data\\meanWaveform_NP10.npy\")\n",
    "filepath = r\"C:\\Users\\Steinmetz lab\\Documents\\git\\Neuropixels-footprint\\chanMaps\\neuropixPhase3B1_kilosortChanMap.mat\";\n",
    "\n",
    "arrays = {}\n",
    "f = h5py.File(filepath)\n",
    "for k, v in f.items():\n",
    "    arrays[k] = np.array(v)\n",
    "\n",
    "xcoords = np.squeeze(arrays[\"xcoords\"])\n",
    "ycoords = np.squeeze(arrays[\"ycoords\"])"
   ]
  },
  {
   "cell_type": "code",
   "execution_count": 3,
   "id": "4c82b5da",
   "metadata": {
    "scrolled": true
   },
   "outputs": [
    {
     "data": {
      "application/vnd.jupyter.widget-view+json": {
       "model_id": "8b138c68c557459a9354cb9c3652e1d6",
       "version_major": 2,
       "version_minor": 0
      },
      "text/plain": [
       "  0%|          | 0/170 [00:00<?, ?it/s]"
      ]
     },
     "metadata": {},
     "output_type": "display_data"
    },
    {
     "name": "stderr",
     "output_type": "stream",
     "text": [
      "C:\\Users\\Steinmetz lab\\Documents\\MATLAB\\Neuropixel_ultra\\NPUltraWaveform\\andrew_code\\footprint_code_new\\get_footprint_new3.py:189: RuntimeWarning: Mean of empty slice\n",
      "  vq_mean = np.nanmean(vq,axis=0)\n"
     ]
    },
    {
     "name": "stdout",
     "output_type": "stream",
     "text": [
      "[40, 40, 48, 55, 55, 52, 52, 44, 32, 57, 41, 44, 35, 19, 35, 35, 92, 37, 48, 72, 47, 38, 57, 36, 55, 48, 59, 45, 54, 37, 40, 75, 37, 57, 72, 33, 22, 22, 53, 46, 17, 26, 43, 46, 22, 23, 88, 40, 39, 53, 66, 54, 31, 42, 23, 22, 57, 48, 51, 53, 20, 25, 59, 25, 21, 53, 24, 22, 35, 18, 31, 24, 23, 24, 42, 40, 48, 58, 62, 67, 68, 50, 39, 24, 20, 22, 24, 37, 37, 24, 41, 60, 59, 59, 54, 24, 25, 55, 47, 36, 55, 55, 43, 58, 43, 53, 55, 46, 50, 43, 60, 47, 24, 21, 41, 50, 43, 31, 70, 60, 100, 42, 26, 35, 39, 25, 32, 30, 46, 26, 59, 51, 25, 64, 53, 40, 62, 59, 45, 37, 38, 48, 45, 33, 34, 24, 51, 50, 27, 55, 31, 44, 52, 52, 43, 59, 48, 61, 62, 47, 66, 52, 53, 59, 52, 39, 44, 54, 51, 57]\n"
     ]
    }
   ],
   "source": [
    "footprint = []\n",
    "for unit in tqdm(data,total=len(data)):\n",
    "    ft = get_footprint_new3.get_footprint_radius(unit,xcoords, ycoords, threshold=30)\n",
    "    footprint.append(ft)\n",
    "print(footprint)"
   ]
  }
 ],
 "metadata": {
  "kernelspec": {
   "display_name": "Python 3 (ipykernel)",
   "language": "python",
   "name": "python3"
  },
  "language_info": {
   "codemirror_mode": {
    "name": "ipython",
    "version": 3
   },
   "file_extension": ".py",
   "mimetype": "text/x-python",
   "name": "python",
   "nbconvert_exporter": "python",
   "pygments_lexer": "ipython3",
   "version": "3.8.13"
  }
 },
 "nbformat": 4,
 "nbformat_minor": 5
}
